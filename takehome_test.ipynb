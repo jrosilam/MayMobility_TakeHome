{
 "cells": [
  {
   "attachments": {},
   "cell_type": "markdown",
   "metadata": {},
   "source": [
    "# May Mobility (Data Scientist)"
   ]
  },
  {
   "attachments": {},
   "cell_type": "markdown",
   "metadata": {},
   "source": [
    "## Rough Idea of how the route looks\n",
    "\n",
    "I don't believe that this is the actual route.\n",
    "\n",
    "As I comb through more of the data, I'll get a better understanding of what order the stops go.\n",
    "\n",
    "I just ploted the lat/lon in order from the appendix to give myself a visual aid.\n",
    "\n",
    "![rough_image](./resources/pics/rough_idea_route.png)\n"
   ]
  },
  {
   "attachments": {},
   "cell_type": "markdown",
   "metadata": {},
   "source": [
    "### Point of Interest (PoI)\n",
    "\n",
    "| Stop       | Description                      | Latitude | Longitude |\n",
    "|:-----------|:--------------------------------:|----------|-----------|\n",
    "| Bus        | Bus stop on a major transit line | 39.77285 | -86.16168 |\n",
    "| Dentist    | School of Dentistry              | 39.77467 | -86.17895 |\n",
    "| Doctor     | Pediatrician’s office            | 39.77926 | -86.17496 |\n",
    "| Admin      | Administrative building          | 39.77459 | -86.17433 |\n",
    "| Hospital   | Campus hospital                  | 39.77567 | -86.17557 |\n",
    "| Lime       | Bus stop on campus               | 39.77473 | -86.18376 |\n",
    "| Parking    | Campus parking lot               | 39.77882 | -86.18121 |\n",
    "| School     | School of Art and Design         | 39.77148 | -86.17148 |\n",
    "| University | University lecture hall          | 39.77271 | -86.17575 |\n"
   ]
  },
  {
   "attachments": {},
   "cell_type": "markdown",
   "metadata": {},
   "source": [
    "## Read Data in"
   ]
  },
  {
   "cell_type": "code",
   "execution_count": 206,
   "metadata": {},
   "outputs": [
    {
     "name": "stdout",
     "output_type": "stream",
     "text": [
      "   row_id            timestamp  pickup  dropoff    stop vehicle      time        date name\n",
      "0       1  2021-11-01 07:10:54       1        0     Bus  Marble  07:00:00  2021-11-01   ES\n",
      "1       2  2021-11-01 07:51:13       1        0     Bus  Marble  07:50:00  2021-11-01   ES\n",
      "2       3  2021-11-01 08:02:13       1        0    Lime  Marble  08:01:00  2021-11-01   ES\n",
      "3       4  2021-11-01 08:41:16       1        0  Doctor   Motto  08:41:00  2021-11-01   CM\n",
      "4       5  2021-11-01 09:24:10       1        0     Bus    Myao  09:22:00  2021-11-01   CM\n",
      "             timestamp  pickup  dropoff    stop vehicle      time        date name\n",
      "0  2021-06-03 13:08:10     1.0      0.0     Bus   Motto  13:05:00  2021-06-03   JR\n",
      "1  2021-06-03 13:31:41     0.0      1.0     Bus   Motto  13:31:43  2021-06-03   JR\n",
      "2  2021-06-04 11:06:02     1.0      0.0  School   Motto  11:03:00  2021-06-04   CM\n",
      "3  2021-06-04 11:07:48     0.0      1.0     Bus   Motto  11:07:00  2021-06-04   CM\n",
      "4  2021-06-04 12:43:54     1.0      0.0     Bus   Motto  12:40:00  2021-06-04   MN\n"
     ]
    }
   ],
   "source": [
    "import pandas as pd\n",
    "# QoL for viewing df output\n",
    "pd.set_option('display.max_rows', 500)\n",
    "pd.set_option('display.max_columns', 500)\n",
    "pd.set_option('display.width', 1000)\n",
    "\n",
    "# read-in *.csv files\n",
    "pickups_df   = pd.read_csv(\"resources/csv/Data_Science_pickups.csv\")\n",
    "ridership_df = pd.read_csv(\"resources/csv/Data_Science_site_ridership.csv\")\n",
    "\n",
    "# display head of dataframes\n",
    "print(pickups_df.head())\n",
    "print(ridership_df.head())"
   ]
  },
  {
   "attachments": {},
   "cell_type": "markdown",
   "metadata": {},
   "source": [
    "## Inspect and convert data types"
   ]
  },
  {
   "cell_type": "code",
   "execution_count": 207,
   "metadata": {},
   "outputs": [
    {
     "name": "stdout",
     "output_type": "stream",
     "text": [
      "pickups data frame\n",
      "\n",
      "<class 'pandas.core.frame.DataFrame'>\n",
      "RangeIndex: 363 entries, 0 to 362\n",
      "Data columns (total 9 columns):\n",
      " #   Column     Non-Null Count  Dtype \n",
      "---  ------     --------------  ----- \n",
      " 0   row_id     363 non-null    int64 \n",
      " 1   timestamp  363 non-null    object\n",
      " 2   pickup     363 non-null    int64 \n",
      " 3   dropoff    363 non-null    int64 \n",
      " 4   stop       363 non-null    object\n",
      " 5   vehicle    363 non-null    object\n",
      " 6   time       363 non-null    object\n",
      " 7   date       363 non-null    object\n",
      " 8   name       363 non-null    object\n",
      "dtypes: int64(3), object(6)\n",
      "memory usage: 25.6+ KB\n"
     ]
    }
   ],
   "source": [
    "print('pickups data frame\\n')\n",
    "pickups_df.info()"
   ]
  },
  {
   "cell_type": "code",
   "execution_count": 208,
   "metadata": {},
   "outputs": [
    {
     "name": "stdout",
     "output_type": "stream",
     "text": [
      "<class 'pandas.core.frame.DataFrame'>\n",
      "RangeIndex: 363 entries, 0 to 362\n",
      "Data columns (total 9 columns):\n",
      " #   Column     Non-Null Count  Dtype         \n",
      "---  ------     --------------  -----         \n",
      " 0   row_id     363 non-null    int64         \n",
      " 1   timestamp  363 non-null    datetime64[ns]\n",
      " 2   pickup     363 non-null    int64         \n",
      " 3   dropoff    363 non-null    int64         \n",
      " 4   stop       363 non-null    category      \n",
      " 5   vehicle    363 non-null    category      \n",
      " 6   time       363 non-null    object        \n",
      " 7   date       363 non-null    datetime64[ns]\n",
      " 8   name       363 non-null    category      \n",
      "dtypes: category(3), datetime64[ns](2), int64(3), object(1)\n",
      "memory usage: 19.1+ KB\n"
     ]
    }
   ],
   "source": [
    "# timestamp    object\n",
    "pickups_df[\"timestamp\"] = pd.to_datetime(pickups_df[\"timestamp\"], format=\"%Y-%m-%d %H:%M:%S\")\n",
    "\n",
    "# stop         object\n",
    "pickups_df[\"stop\"] = pickups_df[\"stop\"].astype(\"category\")\n",
    "\n",
    "# vehicle      object\n",
    "pickups_df[\"vehicle\"] = pickups_df[\"vehicle\"].astype(\"category\")\n",
    "\n",
    "# date         object\n",
    "pickups_df[\"date\"] = pd.to_datetime(pickups_df[\"date\"], format=\"%Y-%m-%d\")\n",
    "\n",
    "# name         object\n",
    "pickups_df[\"name\"] = pickups_df[\"name\"].astype(\"category\")\n",
    "\n",
    "pickups_df.info()"
   ]
  },
  {
   "cell_type": "code",
   "execution_count": 209,
   "metadata": {},
   "outputs": [
    {
     "name": "stdout",
     "output_type": "stream",
     "text": [
      "ridership data frame\n",
      "\n",
      "<class 'pandas.core.frame.DataFrame'>\n",
      "RangeIndex: 4352 entries, 0 to 4351\n",
      "Data columns (total 8 columns):\n",
      " #   Column     Non-Null Count  Dtype  \n",
      "---  ------     --------------  -----  \n",
      " 0   timestamp  4352 non-null   object \n",
      " 1   pickup     4340 non-null   float64\n",
      " 2   dropoff    4337 non-null   float64\n",
      " 3   stop       4352 non-null   object \n",
      " 4   vehicle    4352 non-null   object \n",
      " 5   time       4352 non-null   object \n",
      " 6   date       4352 non-null   object \n",
      " 7   name       4352 non-null   object \n",
      "dtypes: float64(2), object(6)\n",
      "memory usage: 272.1+ KB\n"
     ]
    }
   ],
   "source": [
    "print('ridership data frame\\n')\n",
    "ridership_df.info()"
   ]
  },
  {
   "cell_type": "code",
   "execution_count": 216,
   "metadata": {},
   "outputs": [
    {
     "name": "stdout",
     "output_type": "stream",
     "text": [
      "<class 'pandas.core.frame.DataFrame'>\n",
      "RangeIndex: 4352 entries, 0 to 4351\n",
      "Data columns (total 8 columns):\n",
      " #   Column     Non-Null Count  Dtype         \n",
      "---  ------     --------------  -----         \n",
      " 0   timestamp  4352 non-null   datetime64[ns]\n",
      " 1   pickup     4340 non-null   float64       \n",
      " 2   dropoff    4337 non-null   float64       \n",
      " 3   stop       4352 non-null   category      \n",
      " 4   vehicle    4352 non-null   category      \n",
      " 5   time       4352 non-null   object        \n",
      " 6   date       4352 non-null   datetime64[ns]\n",
      " 7   name       4352 non-null   category      \n",
      "dtypes: category(3), datetime64[ns](2), float64(2), object(1)\n",
      "memory usage: 184.8+ KB\n"
     ]
    }
   ],
   "source": [
    "# timestamp     object\n",
    "ridership_df[\"timestamp\"] = pd.to_datetime(ridership_df[\"timestamp\"], format=\"%Y-%m-%d %H:%M:%S\")\n",
    "\n",
    "# # pickup       float64 \n",
    "# Should be int64\n",
    "# ridership_df[\"pickup\"] = ridership_df[\"pickup\"]\n",
    "\n",
    "# # dropoff      float64\n",
    "# Should be int64\n",
    "# ridership_df[\"dropoff\"] = ridership_df[\"dropoff\"]\n",
    "\n",
    "# stop          object\n",
    "ridership_df[\"stop\"] = ridership_df[\"stop\"].astype(\"category\")\n",
    "\n",
    "# vehicle       object\n",
    "ridership_df[\"vehicle\"] = ridership_df[\"vehicle\"].astype(\"category\")\n",
    "\n",
    "# date          object\n",
    "ridership_df[\"date\"] = pd.to_datetime(ridership_df[\"date\"], format=\"%Y-%m-%d\")\n",
    "\n",
    "# name          object\n",
    "ridership_df[\"name\"] = ridership_df[\"name\"].astype(\"category\")\n",
    "\n",
    "ridership_df.info()"
   ]
  },
  {
   "cell_type": "code",
   "execution_count": 236,
   "metadata": {},
   "outputs": [
    {
     "name": "stdout",
     "output_type": "stream",
     "text": [
      "Null pickup values 12 out of 4352 records, 0.28% missing\n",
      "Null dropoff values 15 out of 4352 records, 0.34% missing\n"
     ]
    }
   ],
   "source": [
    "# Find out why its null\n",
    "#    RangeIndex: 4352 entries, 0 to 4351\n",
    "# 1   pickup     4340 non-null   float64\n",
    "# 2   dropoff    4337 non-null   float64\n",
    "\n",
    "print(f'Null pickup values {ridership_df[\"pickup\"].isnull().sum()} out of {ridership_df.shape[0]} records, {ridership_df[\"pickup\"].isnull().sum()/ridership_df.shape[0]:.2%} missing')\n",
    "\n",
    "print(f'Null dropoff values {ridership_df[\"dropoff\"].isnull().sum()} out of {ridership_df.shape[0]} records, {ridership_df[\"dropoff\"].isnull().sum()/ridership_df.shape[0]:.2%} missing')"
   ]
  },
  {
   "attachments": {},
   "cell_type": "markdown",
   "metadata": {},
   "source": [
    "### Convert Vars to proper dtypes"
   ]
  },
  {
   "attachments": {},
   "cell_type": "markdown",
   "metadata": {},
   "source": [
    "<table>\n",
    "<tr><th>Pickup Data Types </th><th>Ridership Data Types</th></tr>\n",
    "<tr><td>\n",
    "\n",
    "| Var         |       Before  |       After     |\n",
    "|:------------|:--------------|:----------------|\n",
    "|row_id       | int64         | int64           |\n",
    "|timestamp    | object        | datetime64[ns]  |   \n",
    "|pickup       | int64         | int64           |\n",
    "|dropoff      | int64         | int64           |\n",
    "|stop         | object        | category        |\n",
    "|vehicle      | object        | category        |\n",
    "|time         | object        | object          |\n",
    "|date         | object        | datetime64[ns]  |   \n",
    "|name         | object        | category        |\n",
    "\n",
    "</td><td>\n",
    "\n",
    "| Var         |       Before  |       After    |\n",
    "|:------------|:--------------|:---------------|\n",
    "|timestamp    | object        | datetime64[ns] |\n",
    "|pickup       | float64       | float64        |\n",
    "|dropoff      | float64       | float64        |\n",
    "|stop         | object        | category       |\n",
    "|vehicle      | object        | category       |\n",
    "|time         | object        | object         |\n",
    "|date         | object        | datetime64[ns] |\n",
    "|name         | object        | category       |\n",
    "\n",
    "</td></tr> </table>"
   ]
  }
 ],
 "metadata": {
  "kernelspec": {
   "display_name": "Python 3.10.1 64-bit",
   "language": "python",
   "name": "python3"
  },
  "language_info": {
   "codemirror_mode": {
    "name": "ipython",
    "version": 3
   },
   "file_extension": ".py",
   "mimetype": "text/x-python",
   "name": "python",
   "nbconvert_exporter": "python",
   "pygments_lexer": "ipython3",
   "version": "3.10.1"
  },
  "orig_nbformat": 4,
  "vscode": {
   "interpreter": {
    "hash": "ad2b602d900782d1669cfe4adc170349fca2d944c0dfaa7982a8f0f32d4ec4d5"
   }
  }
 },
 "nbformat": 4,
 "nbformat_minor": 2
}
