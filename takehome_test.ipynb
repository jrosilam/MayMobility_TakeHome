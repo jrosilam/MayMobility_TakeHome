{
 "cells": [
  {
   "attachments": {},
   "cell_type": "markdown",
   "metadata": {},
   "source": [
    "# May Mobility (Data Scientist)"
   ]
  },
  {
   "attachments": {},
   "cell_type": "markdown",
   "metadata": {},
   "source": [
    "## Read Data in"
   ]
  },
  {
   "cell_type": "code",
   "execution_count": 27,
   "metadata": {},
   "outputs": [
    {
     "name": "stdout",
     "output_type": "stream",
     "text": [
      "   row_id            timestamp  pickup  dropoff    stop vehicle      time        date name\n",
      "0       1  2021-11-01 07:10:54       1        0     Bus  Marble  07:00:00  2021-11-01   ES\n",
      "1       2  2021-11-01 07:51:13       1        0     Bus  Marble  07:50:00  2021-11-01   ES\n",
      "2       3  2021-11-01 08:02:13       1        0    Lime  Marble  08:01:00  2021-11-01   ES\n",
      "3       4  2021-11-01 08:41:16       1        0  Doctor   Motto  08:41:00  2021-11-01   CM\n",
      "4       5  2021-11-01 09:24:10       1        0     Bus    Myao  09:22:00  2021-11-01   CM\n",
      "             timestamp  pickup  dropoff    stop vehicle      time        date name\n",
      "0  2021-06-03 13:08:10     1.0      0.0     Bus   Motto  13:05:00  2021-06-03   JR\n",
      "1  2021-06-03 13:31:41     0.0      1.0     Bus   Motto  13:31:43  2021-06-03   JR\n",
      "2  2021-06-04 11:06:02     1.0      0.0  School   Motto  11:03:00  2021-06-04   CM\n",
      "3  2021-06-04 11:07:48     0.0      1.0     Bus   Motto  11:07:00  2021-06-04   CM\n",
      "4  2021-06-04 12:43:54     1.0      0.0     Bus   Motto  12:40:00  2021-06-04   MN\n"
     ]
    }
   ],
   "source": [
    "import pandas as pd\n",
    "# QoL for viewing df output\n",
    "pd.set_option('display.max_rows', 500)\n",
    "pd.set_option('display.max_columns', 500)\n",
    "pd.set_option('display.width', 1000)\n",
    "\n",
    "# read-in *.csv files\n",
    "pickups_df   = pd.read_csv(\"resources/csv/Data_Science_pickups.csv\")\n",
    "ridership_df = pd.read_csv(\"resources/csv/Data_Science_site_ridership.csv\")\n",
    "\n",
    "# display head of dataframes\n",
    "print(pickups_df.head())\n",
    "print(ridership_df.head())"
   ]
  },
  {
   "attachments": {},
   "cell_type": "markdown",
   "metadata": {},
   "source": [
    "### inspect data types"
   ]
  },
  {
   "cell_type": "code",
   "execution_count": 60,
   "metadata": {},
   "outputs": [
    {
     "name": "stdout",
     "output_type": "stream",
     "text": [
      "ridership data frame\n",
      "timestamp     object\n",
      "pickup       float64\n",
      "dropoff      float64\n",
      "stop          object\n",
      "vehicle       object\n",
      "time          object\n",
      "date          object\n",
      "name          object\n",
      "dtype: object\n",
      "\n",
      "pickups data frame\n",
      "row_id        int64\n",
      "timestamp    object\n",
      "pickup        int64\n",
      "dropoff       int64\n",
      "stop         object\n",
      "vehicle      object\n",
      "time         object\n",
      "date         object\n",
      "name         object\n",
      "dtype: object\n"
     ]
    }
   ],
   "source": [
    "print('ridership data frame')\n",
    "print(ridership_df.dtypes)\n",
    "\n",
    "print(\"\\npickups data frame\")\n",
    "print(pickups_df.dtypes)"
   ]
  },
  {
   "attachments": {},
   "cell_type": "markdown",
   "metadata": {},
   "source": [
    "# convert vars to proper dtypes"
   ]
  },
  {
   "cell_type": "code",
   "execution_count": null,
   "metadata": {},
   "outputs": [],
   "source": []
  }
 ],
 "metadata": {
  "kernelspec": {
   "display_name": "Python 3.10.1 64-bit",
   "language": "python",
   "name": "python3"
  },
  "language_info": {
   "codemirror_mode": {
    "name": "ipython",
    "version": 3
   },
   "file_extension": ".py",
   "mimetype": "text/x-python",
   "name": "python",
   "nbconvert_exporter": "python",
   "pygments_lexer": "ipython3",
   "version": "3.10.1"
  },
  "orig_nbformat": 4,
  "vscode": {
   "interpreter": {
    "hash": "ad2b602d900782d1669cfe4adc170349fca2d944c0dfaa7982a8f0f32d4ec4d5"
   }
  }
 },
 "nbformat": 4,
 "nbformat_minor": 2
}
